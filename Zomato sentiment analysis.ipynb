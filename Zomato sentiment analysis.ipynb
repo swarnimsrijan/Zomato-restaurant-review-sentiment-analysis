{
 "cells": [
  {
   "cell_type": "code",
   "execution_count": 37,
   "id": "0d422d41",
   "metadata": {},
   "outputs": [
    {
     "name": "stderr",
     "output_type": "stream",
     "text": [
      "huggingface/tokenizers: The current process just got forked, after parallelism has already been used. Disabling parallelism to avoid deadlocks...\n",
      "To disable this warning, you can either:\n",
      "\t- Avoid using `tokenizers` before the fork if possible\n",
      "\t- Explicitly set the environment variable TOKENIZERS_PARALLELISM=(true | false)\n"
     ]
    },
    {
     "name": "stdout",
     "output_type": "stream",
     "text": [
      "Defaulting to user installation because normal site-packages is not writeable\n",
      "Looking in indexes: https://download.pytorch.org/whl/cu118\n",
      "Requirement already satisfied: torch in /home/srijan1142/.local/lib/python3.10/site-packages (2.4.0+cu118)\n",
      "Requirement already satisfied: torchvision in /home/srijan1142/.local/lib/python3.10/site-packages (0.19.0+cu118)\n",
      "Requirement already satisfied: torchaudio in /home/srijan1142/.local/lib/python3.10/site-packages (2.4.0+cu118)\n",
      "Requirement already satisfied: filelock in /home/srijan1142/.local/lib/python3.10/site-packages (from torch) (3.13.1)\n",
      "Requirement already satisfied: typing-extensions>=4.8.0 in /home/srijan1142/.local/lib/python3.10/site-packages (from torch) (4.12.2)\n",
      "Requirement already satisfied: sympy in /usr/lib/python3/dist-packages (from torch) (1.9)\n",
      "Requirement already satisfied: networkx in /home/srijan1142/.local/lib/python3.10/site-packages (from torch) (3.2.1)\n",
      "Requirement already satisfied: jinja2 in /usr/lib/python3/dist-packages (from torch) (3.0.3)\n",
      "Requirement already satisfied: fsspec in /home/srijan1142/.local/lib/python3.10/site-packages (from torch) (2024.2.0)\n",
      "Requirement already satisfied: nvidia-cuda-nvrtc-cu11==11.8.89 in /home/srijan1142/.local/lib/python3.10/site-packages (from torch) (11.8.89)\n",
      "Requirement already satisfied: nvidia-cuda-runtime-cu11==11.8.89 in /home/srijan1142/.local/lib/python3.10/site-packages (from torch) (11.8.89)\n",
      "Requirement already satisfied: nvidia-cuda-cupti-cu11==11.8.87 in /home/srijan1142/.local/lib/python3.10/site-packages (from torch) (11.8.87)\n",
      "Requirement already satisfied: nvidia-cudnn-cu11==9.1.0.70 in /home/srijan1142/.local/lib/python3.10/site-packages (from torch) (9.1.0.70)\n",
      "Requirement already satisfied: nvidia-cublas-cu11==11.11.3.6 in /home/srijan1142/.local/lib/python3.10/site-packages (from torch) (11.11.3.6)\n",
      "Requirement already satisfied: nvidia-cufft-cu11==10.9.0.58 in /home/srijan1142/.local/lib/python3.10/site-packages (from torch) (10.9.0.58)\n",
      "Requirement already satisfied: nvidia-curand-cu11==10.3.0.86 in /home/srijan1142/.local/lib/python3.10/site-packages (from torch) (10.3.0.86)\n",
      "Requirement already satisfied: nvidia-cusolver-cu11==11.4.1.48 in /home/srijan1142/.local/lib/python3.10/site-packages (from torch) (11.4.1.48)\n",
      "Requirement already satisfied: nvidia-cusparse-cu11==11.7.5.86 in /home/srijan1142/.local/lib/python3.10/site-packages (from torch) (11.7.5.86)\n",
      "Requirement already satisfied: nvidia-nccl-cu11==2.20.5 in /home/srijan1142/.local/lib/python3.10/site-packages (from torch) (2.20.5)\n",
      "Requirement already satisfied: nvidia-nvtx-cu11==11.8.86 in /home/srijan1142/.local/lib/python3.10/site-packages (from torch) (11.8.86)\n",
      "Requirement already satisfied: triton==3.0.0 in /home/srijan1142/.local/lib/python3.10/site-packages (from torch) (3.0.0)\n",
      "Requirement already satisfied: numpy in /home/srijan1142/.local/lib/python3.10/site-packages (from torchvision) (1.26.4)\n",
      "Requirement already satisfied: pillow!=8.3.*,>=5.3.0 in /usr/lib/python3/dist-packages (from torchvision) (9.0.1)\n",
      "\u001b[33mWARNING: Error parsing dependencies of send2trash: Expected matching RIGHT_PARENTHESIS for LEFT_PARENTHESIS, after version specifier\n",
      "    sys-platform (==\"darwin\") ; extra == 'objc'\n",
      "                 ~^\u001b[0m\u001b[33m\n",
      "\u001b[0mNote: you may need to restart the kernel to use updated packages.\n"
     ]
    }
   ],
   "source": [
    "pip install torch torchvision torchaudio --index-url https://download.pytorch.org/whl/cu118"
   ]
  },
  {
   "cell_type": "code",
   "execution_count": 38,
   "id": "a7a76eda",
   "metadata": {},
   "outputs": [
    {
     "name": "stderr",
     "output_type": "stream",
     "text": [
      "huggingface/tokenizers: The current process just got forked, after parallelism has already been used. Disabling parallelism to avoid deadlocks...\n",
      "To disable this warning, you can either:\n",
      "\t- Avoid using `tokenizers` before the fork if possible\n",
      "\t- Explicitly set the environment variable TOKENIZERS_PARALLELISM=(true | false)\n"
     ]
    },
    {
     "name": "stdout",
     "output_type": "stream",
     "text": [
      "Defaulting to user installation because normal site-packages is not writeable\n",
      "Requirement already satisfied: transformers in /home/srijan1142/.local/lib/python3.10/site-packages (4.43.3)\n",
      "Requirement already satisfied: requests in /home/srijan1142/.local/lib/python3.10/site-packages (2.32.3)\n",
      "Requirement already satisfied: beautifulsoup4 in /usr/lib/python3/dist-packages (4.10.0)\n",
      "Requirement already satisfied: pandas in /home/srijan1142/.local/lib/python3.10/site-packages (2.2.2)\n",
      "Requirement already satisfied: numpy in /home/srijan1142/.local/lib/python3.10/site-packages (1.26.4)\n",
      "Requirement already satisfied: filelock in /home/srijan1142/.local/lib/python3.10/site-packages (from transformers) (3.13.1)\n",
      "Requirement already satisfied: huggingface-hub<1.0,>=0.23.2 in /home/srijan1142/.local/lib/python3.10/site-packages (from transformers) (0.24.5)\n",
      "Requirement already satisfied: packaging>=20.0 in /home/srijan1142/.local/lib/python3.10/site-packages (from transformers) (24.1)\n",
      "Requirement already satisfied: pyyaml>=5.1 in /usr/lib/python3/dist-packages (from transformers) (5.4.1)\n",
      "Requirement already satisfied: regex!=2019.12.17 in /home/srijan1142/.local/lib/python3.10/site-packages (from transformers) (2024.7.24)\n",
      "Requirement already satisfied: safetensors>=0.4.1 in /home/srijan1142/.local/lib/python3.10/site-packages (from transformers) (0.4.3)\n",
      "Requirement already satisfied: tokenizers<0.20,>=0.19 in /home/srijan1142/.local/lib/python3.10/site-packages (from transformers) (0.19.1)\n",
      "Requirement already satisfied: tqdm>=4.27 in /home/srijan1142/.local/lib/python3.10/site-packages (from transformers) (4.66.5)\n",
      "Requirement already satisfied: charset-normalizer<4,>=2 in /home/srijan1142/.local/lib/python3.10/site-packages (from requests) (3.3.2)\n",
      "Requirement already satisfied: idna<4,>=2.5 in /home/srijan1142/.local/lib/python3.10/site-packages (from requests) (3.7)\n",
      "Requirement already satisfied: urllib3<3,>=1.21.1 in /home/srijan1142/.local/lib/python3.10/site-packages (from requests) (2.2.2)\n",
      "Requirement already satisfied: certifi>=2017.4.17 in /home/srijan1142/.local/lib/python3.10/site-packages (from requests) (2024.7.4)\n",
      "Requirement already satisfied: python-dateutil>=2.8.2 in /home/srijan1142/.local/lib/python3.10/site-packages (from pandas) (2.9.0.post0)\n",
      "Requirement already satisfied: pytz>=2020.1 in /usr/lib/python3/dist-packages (from pandas) (2022.1)\n",
      "Requirement already satisfied: tzdata>=2022.7 in /home/srijan1142/.local/lib/python3.10/site-packages (from pandas) (2024.1)\n",
      "Requirement already satisfied: fsspec>=2023.5.0 in /home/srijan1142/.local/lib/python3.10/site-packages (from huggingface-hub<1.0,>=0.23.2->transformers) (2024.2.0)\n",
      "Requirement already satisfied: typing-extensions>=3.7.4.3 in /home/srijan1142/.local/lib/python3.10/site-packages (from huggingface-hub<1.0,>=0.23.2->transformers) (4.12.2)\n",
      "Requirement already satisfied: six>=1.5 in /usr/lib/python3/dist-packages (from python-dateutil>=2.8.2->pandas) (1.16.0)\n",
      "\u001b[33mWARNING: Error parsing dependencies of send2trash: Expected matching RIGHT_PARENTHESIS for LEFT_PARENTHESIS, after version specifier\n",
      "    sys-platform (==\"darwin\") ; extra == 'objc'\n",
      "                 ~^\u001b[0m\u001b[33m\n",
      "\u001b[0m"
     ]
    }
   ],
   "source": [
    "!pip install transformers requests beautifulsoup4 pandas numpy"
   ]
  },
  {
   "cell_type": "code",
   "execution_count": 41,
   "id": "8562142c",
   "metadata": {},
   "outputs": [],
   "source": [
    "import numpy as np\n",
    "import pandas as pd\n",
    "import torch\n",
    "from transformers import AutoTokenizer, AutoModelForSequenceClassification\n",
    "import re\n",
    "from bs4 import BeautifulSoup\n",
    "import requests"
   ]
  },
  {
   "cell_type": "code",
   "execution_count": 8,
   "id": "980fc449",
   "metadata": {},
   "outputs": [],
   "source": [
    "import os\n",
    "from transformers import AutoTokenizer, AutoModelForSequenceClassification\n",
    "from tqdm import tqdm\n",
    "\n",
    "# Disable notebook mode\n",
    "tqdm.notebook = False\n"
   ]
  },
  {
   "cell_type": "code",
   "execution_count": 9,
   "id": "51ad9b2e",
   "metadata": {},
   "outputs": [],
   "source": [
    "# manually downloaded the model in models\n",
    "model_path = os.path.expanduser(\"~/models/nlptown/bert-base-multilingual-uncased-sentiment\")\n",
    "\n",
    "# Load the tokenizer\n",
    "tokenizer = AutoTokenizer.from_pretrained(model_path, use_fast=True)\n",
    "\n",
    "# Load the model\n",
    "model = AutoModelForSequenceClassification.from_pretrained(model_path)\n"
   ]
  },
  {
   "cell_type": "code",
   "execution_count": 31,
   "id": "1acede92",
   "metadata": {},
   "outputs": [],
   "source": [
    "tokens = tokenizer.encode('I was good but couldve been better', return_tensors='pt')"
   ]
  },
  {
   "cell_type": "code",
   "execution_count": 32,
   "id": "49c18826",
   "metadata": {},
   "outputs": [
    {
     "data": {
      "text/plain": [
       "SequenceClassifierOutput(loss=None, logits=tensor([[-1.7736,  0.1815,  2.0361,  1.1457, -1.3631]],\n",
       "       grad_fn=<AddmmBackward0>), hidden_states=None, attentions=None)"
      ]
     },
     "execution_count": 32,
     "metadata": {},
     "output_type": "execute_result"
    }
   ],
   "source": [
    "result = model(tokens)\n",
    "result"
   ]
  },
  {
   "cell_type": "code",
   "execution_count": 33,
   "id": "c1b44f18",
   "metadata": {},
   "outputs": [
    {
     "data": {
      "text/plain": [
       "'[CLS] i was good but couldve been better [SEP]'"
      ]
     },
     "execution_count": 33,
     "metadata": {},
     "output_type": "execute_result"
    }
   ],
   "source": [
    "tokenizer.decode(tokens[0])\n"
   ]
  },
  {
   "cell_type": "code",
   "execution_count": 34,
   "id": "43f38f8b",
   "metadata": {},
   "outputs": [
    {
     "data": {
      "text/plain": [
       "tensor([[-1.7736,  0.1815,  2.0361,  1.1457, -1.3631]],\n",
       "       grad_fn=<AddmmBackward0>)"
      ]
     },
     "execution_count": 34,
     "metadata": {},
     "output_type": "execute_result"
    }
   ],
   "source": [
    "result.logits"
   ]
  },
  {
   "cell_type": "code",
   "execution_count": 35,
   "id": "7792d97a",
   "metadata": {},
   "outputs": [
    {
     "data": {
      "text/plain": [
       "tensor(3)"
      ]
     },
     "execution_count": 35,
     "metadata": {},
     "output_type": "execute_result"
    }
   ],
   "source": [
    "torch.argmax(result.logits) + 1"
   ]
  },
  {
   "cell_type": "code",
   "execution_count": null,
   "id": "264294b3",
   "metadata": {},
   "outputs": [],
   "source": [
    "## Collect Reviews\n"
   ]
  },
  {
   "cell_type": "code",
   "execution_count": 66,
   "id": "06bbfd0b",
   "metadata": {},
   "outputs": [],
   "source": [
    "r = requests.get('https://www.zomato.com/bangalore/meghana-foods-residency-road/reviews')\n",
    "soup = BeautifulSoup(r.text, 'html.parser')\n",
    "regex = re.compile('.*sc-1hez2tp-0 sc-hnEmYr gPrxrQ.*')\n",
    "results = soup.find_all('p', {'class':regex})\n",
    "reviews = [result.text for result in results]"
   ]
  },
  {
   "cell_type": "code",
   "execution_count": 68,
   "id": "e66121e8",
   "metadata": {},
   "outputs": [
    {
     "data": {
      "text/plain": [
       "<html><head>\n",
       "<title>Access Denied</title>\n",
       "</head><body>\n",
       "<h1>Access Denied</h1>\n",
       " \n",
       "You don't have permission to access \"http://www.zomato.com/bangalore/meghana-foods-residency-road/reviews\" on this server.<p>\n",
       "Reference #18.25d70b17.1722854821.248a5c\n",
       "<p>https://errors.edgesuite.net/18.25d70b17.1722854821.248a5c</p>\n",
       "</p></body>\n",
       "</html>"
      ]
     },
     "execution_count": 68,
     "metadata": {},
     "output_type": "execute_result"
    }
   ],
   "source": [
    "soup"
   ]
  },
  {
   "cell_type": "code",
   "execution_count": 128,
   "id": "4b02ed92",
   "metadata": {},
   "outputs": [
    {
     "name": "stdout",
     "output_type": "stream",
     "text": [
      "Detect current location\n",
      "Using GPS\n",
      "View Gallery\n",
      "Samson\n",
      "Weirdest experience of ordering from dominos but the pizza was great. The delivery not so much. The delivery guy mistaked my order for someone else's but then again even I got confused. I do appreciate the fact that he came back to deliver the right order but man I wish he never got it wrong in the first place. I get that the order rush he had was much but I wish he organised himself well. Thanks you anyway for the great food, the food was delicious but my delivery experience not so much.\n",
      "815287\n",
      "they are never on time, all promises are fake\n",
      "Tresa\n",
      "food is cool \n",
      "Ayush Kumar\n",
      "no mushroom was added\n",
      "Vimal\n",
      "they haven't delivered the ordered food , just scamming the customer even that delivery guy just is a fraud I will also raise this issue now \n"
     ]
    }
   ],
   "source": [
    "\n",
    "headers = {\n",
    "    'User-Agent': 'Mozilla/5.0 (Windows NT 10.0; Win64; x64) AppleWebKit/537.36 (KHTML, like Gecko) Chrome/58.0.3029.110 Safari/537.3'}\n",
    "\n",
    "# Fetch the webpage\n",
    "r = requests.get('https://www.zomato.com/bangalore/dominos-pizza-1-mg-road/reviews', headers=headers)\n",
    "\n",
    "# Parse the webpage content\n",
    "soup = BeautifulSoup(r.text, 'html.parser')\n",
    "\n",
    "# Regular expression pattern to match the specific class pattern\n",
    "pattern = re.compile(r'sc-1hez2tp-0 sc-.*')\n",
    "\n",
    "# Custom function to check if the tag's class attribute matches the pattern\n",
    "def matches_class_pattern(tag):\n",
    "    if tag.name == 'p' and tag.has_attr('class'):\n",
    "        class_attr = ' '.join(tag['class'])\n",
    "        return pattern.search(class_attr) is not None\n",
    "    return False\n",
    "\n",
    "# Find all <p> tags that match the class pattern\n",
    "results = soup.find_all(matches_class_pattern)\n",
    "\n",
    "# Extract the text from each matched element\n",
    "reviews = [result.text for result in results]\n",
    "\n",
    "# Print the reviews\n",
    "for review in reviews:\n",
    "    print(review)\n"
   ]
  },
  {
   "cell_type": "code",
   "execution_count": 129,
   "id": "d4694bcb",
   "metadata": {
    "scrolled": false
   },
   "outputs": [
    {
     "data": {
      "text/plain": [
       "['Detect current location',\n",
       " 'Using GPS',\n",
       " 'View Gallery',\n",
       " 'Samson',\n",
       " \"Weirdest experience of ordering from dominos but the pizza was great. The delivery not so much. The delivery guy mistaked my order for someone else's but then again even I got confused. I do appreciate the fact that he came back to deliver the right order but man I wish he never got it wrong in the first place. I get that the order rush he had was much but I wish he organised himself well. Thanks you anyway for the great food, the food was delicious but my delivery experience not so much.\",\n",
       " '815287',\n",
       " 'they are never on time, all promises are fake',\n",
       " 'Tresa',\n",
       " 'food is cool ',\n",
       " 'Ayush Kumar',\n",
       " 'no mushroom was added',\n",
       " 'Vimal',\n",
       " \"they haven't delivered the ordered food , just scamming the customer even that delivery guy just is a fraud I will also raise this issue now \"]"
      ]
     },
     "execution_count": 129,
     "metadata": {},
     "output_type": "execute_result"
    }
   ],
   "source": [
    "reviews"
   ]
  },
  {
   "cell_type": "code",
   "execution_count": 130,
   "id": "972e2f70",
   "metadata": {},
   "outputs": [],
   "source": [
    "reviews = reviews[3:]"
   ]
  },
  {
   "cell_type": "code",
   "execution_count": 131,
   "id": "5bab75a3",
   "metadata": {},
   "outputs": [
    {
     "data": {
      "text/plain": [
       "['Samson',\n",
       " \"Weirdest experience of ordering from dominos but the pizza was great. The delivery not so much. The delivery guy mistaked my order for someone else's but then again even I got confused. I do appreciate the fact that he came back to deliver the right order but man I wish he never got it wrong in the first place. I get that the order rush he had was much but I wish he organised himself well. Thanks you anyway for the great food, the food was delicious but my delivery experience not so much.\",\n",
       " '815287',\n",
       " 'they are never on time, all promises are fake',\n",
       " 'Tresa',\n",
       " 'food is cool ',\n",
       " 'Ayush Kumar',\n",
       " 'no mushroom was added',\n",
       " 'Vimal',\n",
       " \"they haven't delivered the ordered food , just scamming the customer even that delivery guy just is a fraud I will also raise this issue now \"]"
      ]
     },
     "execution_count": 131,
     "metadata": {},
     "output_type": "execute_result"
    }
   ],
   "source": [
    "reviews"
   ]
  },
  {
   "cell_type": "code",
   "execution_count": 132,
   "id": "f0dcb3da",
   "metadata": {},
   "outputs": [],
   "source": [
    "# temp = []\n",
    "# for i in range(0, len(reviews)):\n",
    "#     if i % 2 != 0:\n",
    "#         temp.append(reviews[i])\n",
    "\n",
    "# reviews = temp\n",
    "# reviews\n",
    "        \n",
    "    \n",
    "# Get every second element starting from index 1\n",
    "reviews = reviews[1::2]\n"
   ]
  },
  {
   "cell_type": "code",
   "execution_count": 133,
   "id": "131b2043",
   "metadata": {},
   "outputs": [
    {
     "data": {
      "text/plain": [
       "[\"Weirdest experience of ordering from dominos but the pizza was great. The delivery not so much. The delivery guy mistaked my order for someone else's but then again even I got confused. I do appreciate the fact that he came back to deliver the right order but man I wish he never got it wrong in the first place. I get that the order rush he had was much but I wish he organised himself well. Thanks you anyway for the great food, the food was delicious but my delivery experience not so much.\",\n",
       " 'they are never on time, all promises are fake',\n",
       " 'food is cool ',\n",
       " 'no mushroom was added',\n",
       " \"they haven't delivered the ordered food , just scamming the customer even that delivery guy just is a fraud I will also raise this issue now \"]"
      ]
     },
     "execution_count": 133,
     "metadata": {},
     "output_type": "execute_result"
    }
   ],
   "source": [
    "reviews"
   ]
  },
  {
   "cell_type": "code",
   "execution_count": null,
   "id": "2bcb9e8b",
   "metadata": {},
   "outputs": [],
   "source": [
    "## Load reviews into dataframe\n"
   ]
  },
  {
   "cell_type": "code",
   "execution_count": 134,
   "id": "90796060",
   "metadata": {},
   "outputs": [],
   "source": [
    "df = pd.DataFrame(np.array(reviews), columns=['review'])"
   ]
  },
  {
   "cell_type": "code",
   "execution_count": 135,
   "id": "86804026",
   "metadata": {},
   "outputs": [
    {
     "data": {
      "text/html": [
       "<div>\n",
       "<style scoped>\n",
       "    .dataframe tbody tr th:only-of-type {\n",
       "        vertical-align: middle;\n",
       "    }\n",
       "\n",
       "    .dataframe tbody tr th {\n",
       "        vertical-align: top;\n",
       "    }\n",
       "\n",
       "    .dataframe thead th {\n",
       "        text-align: right;\n",
       "    }\n",
       "</style>\n",
       "<table border=\"1\" class=\"dataframe\">\n",
       "  <thead>\n",
       "    <tr style=\"text-align: right;\">\n",
       "      <th></th>\n",
       "      <th>review</th>\n",
       "    </tr>\n",
       "  </thead>\n",
       "  <tbody>\n",
       "    <tr>\n",
       "      <th>0</th>\n",
       "      <td>Weirdest experience of ordering from dominos b...</td>\n",
       "    </tr>\n",
       "    <tr>\n",
       "      <th>1</th>\n",
       "      <td>they are never on time, all promises are fake</td>\n",
       "    </tr>\n",
       "    <tr>\n",
       "      <th>2</th>\n",
       "      <td>food is cool</td>\n",
       "    </tr>\n",
       "    <tr>\n",
       "      <th>3</th>\n",
       "      <td>no mushroom was added</td>\n",
       "    </tr>\n",
       "    <tr>\n",
       "      <th>4</th>\n",
       "      <td>they haven't delivered the ordered food , just...</td>\n",
       "    </tr>\n",
       "  </tbody>\n",
       "</table>\n",
       "</div>"
      ],
      "text/plain": [
       "                                              review\n",
       "0  Weirdest experience of ordering from dominos b...\n",
       "1      they are never on time, all promises are fake\n",
       "2                                      food is cool \n",
       "3                              no mushroom was added\n",
       "4  they haven't delivered the ordered food , just..."
      ]
     },
     "execution_count": 135,
     "metadata": {},
     "output_type": "execute_result"
    }
   ],
   "source": [
    "df"
   ]
  },
  {
   "cell_type": "code",
   "execution_count": 136,
   "id": "20916591",
   "metadata": {},
   "outputs": [
    {
     "data": {
      "text/plain": [
       "'they are never on time, all promises are fake'"
      ]
     },
     "execution_count": 136,
     "metadata": {},
     "output_type": "execute_result"
    }
   ],
   "source": [
    "df['review'].iloc[1]"
   ]
  },
  {
   "cell_type": "code",
   "execution_count": 137,
   "id": "47428ad6",
   "metadata": {},
   "outputs": [],
   "source": [
    "## Sentiment Function\n",
    "def sentiment_score(review):\n",
    "    tokens = tokenizer.encode(review, return_tensors='pt')\n",
    "    result = model(tokens)\n",
    "    return int(torch.argmax(result.logits))+1"
   ]
  },
  {
   "cell_type": "code",
   "execution_count": 138,
   "id": "c5b7c83b",
   "metadata": {},
   "outputs": [
    {
     "data": {
      "text/plain": [
       "1"
      ]
     },
     "execution_count": 138,
     "metadata": {},
     "output_type": "execute_result"
    }
   ],
   "source": [
    "sentiment_score(df['review'].iloc[1])"
   ]
  },
  {
   "cell_type": "code",
   "execution_count": 139,
   "id": "c325b604",
   "metadata": {},
   "outputs": [],
   "source": [
    "df['sentiment'] = df['review'].apply(lambda x: sentiment_score(x))\n"
   ]
  },
  {
   "cell_type": "code",
   "execution_count": 140,
   "id": "fd57f6a3",
   "metadata": {},
   "outputs": [
    {
     "data": {
      "text/html": [
       "<div>\n",
       "<style scoped>\n",
       "    .dataframe tbody tr th:only-of-type {\n",
       "        vertical-align: middle;\n",
       "    }\n",
       "\n",
       "    .dataframe tbody tr th {\n",
       "        vertical-align: top;\n",
       "    }\n",
       "\n",
       "    .dataframe thead th {\n",
       "        text-align: right;\n",
       "    }\n",
       "</style>\n",
       "<table border=\"1\" class=\"dataframe\">\n",
       "  <thead>\n",
       "    <tr style=\"text-align: right;\">\n",
       "      <th></th>\n",
       "      <th>review</th>\n",
       "      <th>sentiment</th>\n",
       "    </tr>\n",
       "  </thead>\n",
       "  <tbody>\n",
       "    <tr>\n",
       "      <th>0</th>\n",
       "      <td>Weirdest experience of ordering from dominos b...</td>\n",
       "      <td>3</td>\n",
       "    </tr>\n",
       "    <tr>\n",
       "      <th>1</th>\n",
       "      <td>they are never on time, all promises are fake</td>\n",
       "      <td>1</td>\n",
       "    </tr>\n",
       "    <tr>\n",
       "      <th>2</th>\n",
       "      <td>food is cool</td>\n",
       "      <td>4</td>\n",
       "    </tr>\n",
       "    <tr>\n",
       "      <th>3</th>\n",
       "      <td>no mushroom was added</td>\n",
       "      <td>1</td>\n",
       "    </tr>\n",
       "    <tr>\n",
       "      <th>4</th>\n",
       "      <td>they haven't delivered the ordered food , just...</td>\n",
       "      <td>1</td>\n",
       "    </tr>\n",
       "  </tbody>\n",
       "</table>\n",
       "</div>"
      ],
      "text/plain": [
       "                                              review  sentiment\n",
       "0  Weirdest experience of ordering from dominos b...          3\n",
       "1      they are never on time, all promises are fake          1\n",
       "2                                      food is cool           4\n",
       "3                              no mushroom was added          1\n",
       "4  they haven't delivered the ordered food , just...          1"
      ]
     },
     "execution_count": 140,
     "metadata": {},
     "output_type": "execute_result"
    }
   ],
   "source": [
    "df"
   ]
  },
  {
   "cell_type": "code",
   "execution_count": null,
   "id": "1e08b673",
   "metadata": {},
   "outputs": [],
   "source": []
  },
  {
   "cell_type": "code",
   "execution_count": null,
   "id": "2ed4b6d8",
   "metadata": {},
   "outputs": [],
   "source": []
  }
 ],
 "metadata": {
  "kernelspec": {
   "display_name": "Python 3 (ipykernel)",
   "language": "python",
   "name": "python3"
  },
  "language_info": {
   "codemirror_mode": {
    "name": "ipython",
    "version": 3
   },
   "file_extension": ".py",
   "mimetype": "text/x-python",
   "name": "python",
   "nbconvert_exporter": "python",
   "pygments_lexer": "ipython3",
   "version": "3.10.12"
  }
 },
 "nbformat": 4,
 "nbformat_minor": 5
}
